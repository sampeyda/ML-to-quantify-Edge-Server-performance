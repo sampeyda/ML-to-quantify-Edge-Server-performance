{
 "cells": [
  {
   "cell_type": "code",
   "execution_count": 1,
   "metadata": {},
   "outputs": [
    {
     "name": "stdout",
     "output_type": "stream",
     "text": [
      "Requirement already satisfied: beautifulsoup4 in c:\\users\\sam's laptop\\desktop\\engg4540 advanced computer architechture\\project\\code\\env\\lib\\site-packages (4.10.0)\n",
      "Requirement already satisfied: soupsieve>1.2 in c:\\users\\sam's laptop\\desktop\\engg4540 advanced computer architechture\\project\\code\\env\\lib\\site-packages (from beautifulsoup4) (2.3.1)\n",
      "Note: you may need to restart the kernel to use updated packages.\n"
     ]
    },
    {
     "name": "stderr",
     "output_type": "stream",
     "text": [
      "WARNING: You are using pip version 21.2.4; however, version 22.0.4 is available.\n",
      "You should consider upgrading via the 'C:\\Users\\Sam's Laptop\\Desktop\\ENGG4540 Advanced Computer Architechture\\project\\code\\env\\Scripts\\python.exe -m pip install --upgrade pip' command.\n"
     ]
    }
   ],
   "source": [
    "pip install beautifulsoup4"
   ]
  },
  {
   "cell_type": "code",
   "execution_count": 2,
   "metadata": {},
   "outputs": [],
   "source": [
    "import requests\n",
    "import urllib.request\n",
    "import time\n",
    "from bs4 import BeautifulSoup as bs"
   ]
  },
  {
   "cell_type": "code",
   "execution_count": 12,
   "metadata": {},
   "outputs": [
    {
     "data": {
      "text/plain": [
       "<Response [200]>"
      ]
     },
     "execution_count": 12,
     "metadata": {},
     "output_type": "execute_result"
    }
   ],
   "source": [
    "url = 'https://browser.geekbench.com/processor-benchmarks'\n",
    "response = requests.get(url)\n",
    "response"
   ]
  },
  {
   "cell_type": "code",
   "execution_count": 15,
   "metadata": {},
   "outputs": [],
   "source": [
    "#response.text"
   ]
  },
  {
   "cell_type": "code",
   "execution_count": 20,
   "metadata": {},
   "outputs": [],
   "source": [
    "soup = bs(response.text, \"html.parser\")"
   ]
  },
  {
   "cell_type": "code",
   "execution_count": 22,
   "metadata": {},
   "outputs": [],
   "source": [
    "#soup.text"
   ]
  },
  {
   "cell_type": "code",
   "execution_count": 23,
   "metadata": {},
   "outputs": [],
   "source": [
    "title = soup.title.text"
   ]
  },
  {
   "cell_type": "code",
   "execution_count": 24,
   "metadata": {},
   "outputs": [
    {
     "data": {
      "text/plain": [
       "'Processor Benchmarks\\n - Geekbench Browser'"
      ]
     },
     "execution_count": 24,
     "metadata": {},
     "output_type": "execute_result"
    }
   ],
   "source": [
    "title"
   ]
  },
  {
   "cell_type": "code",
   "execution_count": 39,
   "metadata": {},
   "outputs": [],
   "source": [
    "CPUnames = []"
   ]
  },
  {
   "cell_type": "code",
   "execution_count": 71,
   "metadata": {},
   "outputs": [],
   "source": [
    "#CPU = {}"
   ]
  },
  {
   "cell_type": "code",
   "execution_count": 47,
   "metadata": {},
   "outputs": [],
   "source": [
    "#getting all CPU names from main site\n",
    "for a in soup.findAll('td', attrs={'class':'name'}):\n",
    "    name=a.find('a', href=True)\n",
    "    CPUnames.append(name.text)"
   ]
  },
  {
   "cell_type": "code",
   "execution_count": 221,
   "metadata": {},
   "outputs": [],
   "source": [
    "#specific cpu\n",
    "urltest = 'https://browser.geekbench.com/processors/intel-core-i9-12900k'\n",
    "response2 = requests.get(urltest)\n",
    "soup2 = bs(response2.text, \"html.parser\")"
   ]
  },
  {
   "cell_type": "code",
   "execution_count": 222,
   "metadata": {},
   "outputs": [
    {
     "name": "stdout",
     "output_type": "stream",
     "text": [
      "1996\n",
      "17208\n"
     ]
    }
   ],
   "source": [
    "#finding scores\n",
    "singlescore = soup2.find('div', attrs={'class':\"score-container score-container-1 desktop\"})\n",
    "sscore = singlescore.find('div', attrs={'class':'score'})\n",
    "\n",
    "multiscore = soup2.find('div', attrs={'class':\"score-container desktop\"})\n",
    "mscore = multiscore.find('div', attrs={'class':'score'})\n",
    "\n",
    "print(sscore.text)\n",
    "print(mscore.text)"
   ]
  },
  {
   "cell_type": "code",
   "execution_count": 224,
   "metadata": {},
   "outputs": [
    {
     "name": "stdout",
     "output_type": "stream",
     "text": [
      "Clock Speed:  3200 MHz\n",
      "Number of Cores:  16\n",
      "Numer of Threads:  24\n"
     ]
    }
   ],
   "source": [
    "#finding clkspeed\n",
    "CPU2 = {}\n",
    "x = 0\n",
    "cpunametest = CPUnames[0].replace(' ','-')\n",
    "CPU2[cpunametest.strip()] = {}\n",
    "for a in soup2.findAll('td', attrs={'class':'system-value'}):\n",
    "    x = x + 1\n",
    "    value = a\n",
    "    if x == 2:\n",
    "        CPU2[cpunametest.strip()]['clkspd'] = value\n",
    "    if x == 4:\n",
    "        CPU2[cpunametest.strip()]['numcores'] = value\n",
    "    if x == 5:\n",
    "        CPU2[cpunametest.strip()]['numthreads'] = value\n",
    "\n",
    "#print(CPU)\n",
    "print(\"Clock Speed: \", CPU2[cpunametest.strip()]['clkspd'].text)\n",
    "print(\"Number of Cores: \", CPU2[cpunametest.strip()]['numcores'].text)\n",
    "print(\"Numer of Threads: \", CPU2[cpunametest.strip()]['numthreads'].text)"
   ]
  },
  {
   "cell_type": "code",
   "execution_count": 243,
   "metadata": {},
   "outputs": [
    {
     "name": "stdout",
     "output_type": "stream",
     "text": [
      "Found processor\n",
      "Intel Core i9-12900K\n",
      "Frequency 3200\n"
     ]
    }
   ],
   "source": [
    "#finding with if statements\n",
    "#finding clkspeed\n",
    "CPU2 = {}\n",
    "x = 0\n",
    "cpunametest = CPUnames[0].replace(' ','-')\n",
    "CPU2[cpunametest.strip()] = {}\n",
    "for a in soup2.findAll('tr'):\n",
    "    x = x + 1\n",
    "    value = a\n",
    "    if a.find(attrs={'class':'system-name'}):\n",
    "        if a.find(attrs={'class':'system-name'}).text == 'Processor':\n",
    "            print(\"Found processor\")\n",
    "            print(a.find(attrs={'class':'system-value'}).text)\n",
    "        if a.find(attrs={'class':'system-name'}).text == 'Frequency':\n",
    "            print(\"Frequency\", a.find(attrs={'class':'system-value'}).text.split(' ', 1)[0])\n",
    "        if x == 5:\n",
    "            CPU2[cpunametest.strip()]['numthreads'] = value\n",
    "\n",
    "#print(CPU)\n",
    "#print(\"Clock Speed: \", CPU2[cpunametest.strip()]['clkspd'].text)\n",
    "#print(\"Number of Cores: \", CPU2[cpunametest.strip()]['numcores'].text)\n",
    "#print(\"Numer of Threads: \", CPU2[cpunametest.strip()]['numthreads'].text)"
   ]
  },
  {
   "cell_type": "code",
   "execution_count": null,
   "metadata": {},
   "outputs": [],
   "source": [
    "#finding hyperlinks\n",
    "CPU2 = {}\n",
    "x = 0\n",
    "cpunametest = CPUnames[0].replace(' ','-')\n",
    "CPU2[cpunametest.strip()] = {}\n",
    "for a in soup2.findAll('div', attrs={'class':'col-12 col-lg-4'}):\n",
    "    "
   ]
  },
  {
   "cell_type": "code",
   "execution_count": 246,
   "metadata": {},
   "outputs": [],
   "source": [
    "#putting it all together\n",
    "url2 = 'https://browser.geekbench.com/processors/'\n",
    "CPU = {}\n",
    "for cpuname in CPUnames:\n",
    "    time.sleep(0.5)\n",
    "    cpuname = cpuname.replace(' ','-')\n",
    "    CPU[cpuname.strip()] = {}\n",
    "    url2 = 'https://browser.geekbench.com/processors/'\n",
    "    url2 += cpuname.strip()\n",
    "    response3 = requests.get(url2)\n",
    "    soup3 = bs(response3.text, \"html.parser\")\n",
    "    for a in soup3.findAll('tr'):\n",
    "        singlescore = soup3.find('div', attrs={'class':\"score-container score-container-1 desktop\"})\n",
    "        CPU[cpuname.strip()]['singlescore'] = singlescore.find('div', attrs={'class':'score'}).text\n",
    "        \n",
    "        multiscore = soup3.find('div', attrs={'class':\"score-container desktop\"})\n",
    "        CPU[cpuname.strip()]['multiscore'] = multiscore.find('div', attrs={'class':'score'}).text\n",
    "        \n",
    "        if a.find(attrs={'class':'system-name'}):\n",
    "            if a.find(attrs={'class':'system-name'}).text == 'Frequency':\n",
    "                CPU[cpuname.strip()]['clkspd'] = a.find(attrs={'class':'system-value'}).text.split(' ', 1)[0]\n",
    "                \n",
    "            if a.find(attrs={'class':'system-name'}).text == 'Cores':\n",
    "                CPU[cpuname.strip()]['numcores'] = a.find(attrs={'class':'system-value'}).text\n",
    "                \n",
    "            if a.find(attrs={'class':'system-name'}).text == 'Threads':\n",
    "                CPU[cpuname.strip()]['numthreads'] = a.find(attrs={'class':'system-value'}).text\n",
    "                \n",
    "            if a.find(attrs={'class':'system-name'}).text == 'Codename':\n",
    "                CPU[cpuname.strip()]['codename'] = a.find(attrs={'class':'system-value'}).text"
   ]
  },
  {
   "cell_type": "code",
   "execution_count": 155,
   "metadata": {},
   "outputs": [
    {
     "data": {
      "text/plain": [
       "1557"
      ]
     },
     "execution_count": 155,
     "metadata": {},
     "output_type": "execute_result"
    }
   ],
   "source": [
    "len(CPU)"
   ]
  },
  {
   "cell_type": "code",
   "execution_count": 198,
   "metadata": {},
   "outputs": [
    {
     "name": "stdout",
     "output_type": "stream",
     "text": [
      "<div class=\"score\">1043</div>\n"
     ]
    }
   ],
   "source": [
    "print(CPU['Intel-Xeon-W-2170B']['singlescore'])"
   ]
  },
  {
   "cell_type": "code",
   "execution_count": 68,
   "metadata": {},
   "outputs": [
    {
     "name": "stdout",
     "output_type": "stream",
     "text": [
      "\n",
      "Intel-Core-i9-12900K\n",
      "\n"
     ]
    }
   ],
   "source": [
    "testname = CPUnames[0].replace(' ','-')\n",
    "print(testname)"
   ]
  },
  {
   "cell_type": "code",
   "execution_count": 110,
   "metadata": {},
   "outputs": [
    {
     "name": "stdout",
     "output_type": "stream",
     "text": [
      "hello\n",
      "world\n"
     ]
    }
   ],
   "source": [
    "print(\"hello\")\n",
    "time.sleep(0.5)\n",
    "print(\"world\")"
   ]
  },
  {
   "cell_type": "code",
   "execution_count": 140,
   "metadata": {},
   "outputs": [],
   "source": [
    "#testing dictionaries\n",
    "tdict = {}\n",
    "tdict['pro1'] = {}\n",
    "tdict['pro1']['clkspd'] = 20\n",
    "tdict['pro1']['numcores'] = 5"
   ]
  },
  {
   "cell_type": "code",
   "execution_count": 142,
   "metadata": {},
   "outputs": [
    {
     "name": "stdout",
     "output_type": "stream",
     "text": [
      "20\n",
      "5\n"
     ]
    }
   ],
   "source": [
    "print(tdict['pro1']['clkspd'])\n",
    "print(tdict['pro1']['numcores'])"
   ]
  },
  {
   "cell_type": "code",
   "execution_count": 247,
   "metadata": {},
   "outputs": [],
   "source": [
    "#export to CSV\n",
    "import csv\n",
    "import itertools\n",
    "csv_columns = ['CPU-Name','singlescore','multiscore','clkspd','numcores','numthreads','codename']\n",
    "\n",
    "csv_file = \"CPUdata.csv\"\n",
    "try:\n",
    "    with open(csv_file, 'w') as csvfile:\n",
    "        writer = csv.DictWriter(csvfile, fieldnames=csv_columns)\n",
    "        writer.writeheader()\n",
    "        \n",
    "        #i = 0\n",
    "        for key, val in CPU.items():\n",
    "            row = {'CPU-Name':key}\n",
    "            row.update(val)\n",
    "            writer.writerow(row)\n",
    "            #writer.writerow(CPU[CPUnames[0].replace(' ','-').split('\\n')[1]])\n",
    "except IOError:\n",
    "    print(\"I/O error\")\n"
   ]
  },
  {
   "cell_type": "code",
   "execution_count": 214,
   "metadata": {},
   "outputs": [
    {
     "name": "stdout",
     "output_type": "stream",
     "text": [
      "Intel-Core-i9-12900K\n"
     ]
    }
   ],
   "source": [
    "print(CPUnames[0].replace(' ','-').split('\\n')[1])"
   ]
  },
  {
   "cell_type": "code",
   "execution_count": 202,
   "metadata": {},
   "outputs": [
    {
     "ename": "KeyError",
     "evalue": "'singlescore'",
     "output_type": "error",
     "traceback": [
      "\u001b[0;31m---------------------------------------------------------------------------\u001b[0m",
      "\u001b[0;31mKeyError\u001b[0m                                  Traceback (most recent call last)",
      "\u001b[0;32m<ipython-input-202-6ab1a7c5773d>\u001b[0m in \u001b[0;36m<module>\u001b[0;34m\u001b[0m\n\u001b[1;32m      6\u001b[0m         \u001b[0;31m#multiscorecpu = CPU[names]['multiscore'].text\u001b[0m\u001b[0;34m\u001b[0m\u001b[0;34m\u001b[0m\u001b[0;34m\u001b[0m\u001b[0m\n\u001b[1;32m      7\u001b[0m         \u001b[0;31m#CPU[names]['multiscore'] = multiscorecpu\u001b[0m\u001b[0;34m\u001b[0m\u001b[0;34m\u001b[0m\u001b[0;34m\u001b[0m\u001b[0m\n\u001b[0;32m----> 8\u001b[0;31m     \u001b[0;32mif\u001b[0m \u001b[0misinstance\u001b[0m\u001b[0;34m(\u001b[0m\u001b[0mCPU\u001b[0m\u001b[0;34m[\u001b[0m\u001b[0mnames\u001b[0m\u001b[0;34m]\u001b[0m\u001b[0;34m[\u001b[0m\u001b[0;34m'singlescore'\u001b[0m\u001b[0;34m]\u001b[0m\u001b[0;34m,\u001b[0m\u001b[0mstr\u001b[0m\u001b[0;34m)\u001b[0m \u001b[0;34m==\u001b[0m \u001b[0;32mFalse\u001b[0m\u001b[0;34m:\u001b[0m\u001b[0;34m\u001b[0m\u001b[0;34m\u001b[0m\u001b[0m\n\u001b[0m\u001b[1;32m      9\u001b[0m         \u001b[0msinglescorecpu\u001b[0m \u001b[0;34m=\u001b[0m \u001b[0mCPU\u001b[0m\u001b[0;34m[\u001b[0m\u001b[0mnames\u001b[0m\u001b[0;34m]\u001b[0m\u001b[0;34m[\u001b[0m\u001b[0;34m'singlescore'\u001b[0m\u001b[0;34m]\u001b[0m\u001b[0;34m.\u001b[0m\u001b[0mtext\u001b[0m\u001b[0;34m\u001b[0m\u001b[0;34m\u001b[0m\u001b[0m\n\u001b[1;32m     10\u001b[0m         \u001b[0mCPU\u001b[0m\u001b[0;34m[\u001b[0m\u001b[0mnames\u001b[0m\u001b[0;34m]\u001b[0m\u001b[0;34m[\u001b[0m\u001b[0;34m'singlescore'\u001b[0m\u001b[0;34m]\u001b[0m \u001b[0;34m=\u001b[0m \u001b[0msinglescorecpu\u001b[0m\u001b[0;34m\u001b[0m\u001b[0;34m\u001b[0m\u001b[0m\n",
      "\u001b[0;31mKeyError\u001b[0m: 'singlescore'"
     ]
    }
   ],
   "source": [
    "#fixing data that was wrongly put into the dictionary\n",
    "for names in CPUnames:\n",
    "    names = names.replace(' ','-')\n",
    "    names = names.split('\\n')[1]\n",
    "    \n",
    "    if isinstance(CPU[names]['multiscore'],str) == False:\n",
    "        multiscorecpu = CPU[names]['multiscore'].text\n",
    "        CPU[names]['multiscore'] = multiscorecpu\n",
    "    if isinstance(CPU[names]['singlescore'],str) == False:\n",
    "        singlescorecpu = CPU[names]['singlescore'].text\n",
    "        CPU[names]['singlescore'] = singlescorecpu"
   ]
  },
  {
   "cell_type": "code",
   "execution_count": 193,
   "metadata": {},
   "outputs": [
    {
     "name": "stdout",
     "output_type": "stream",
     "text": [
      "Intel Core i9-12900K\n"
     ]
    }
   ],
   "source": [
    "print(CPUnames[0].split('\\n')[1])"
   ]
  },
  {
   "cell_type": "code",
   "execution_count": 204,
   "metadata": {},
   "outputs": [
    {
     "name": "stdout",
     "output_type": "stream",
     "text": [
      "1996\n"
     ]
    }
   ],
   "source": [
    "print(CPU['Intel-Core-i9-12900K']['singlescore'])"
   ]
  },
  {
   "cell_type": "code",
   "execution_count": null,
   "metadata": {},
   "outputs": [],
   "source": []
  }
 ],
 "metadata": {
  "kernelspec": {
   "display_name": "Python 3 (ipykernel)",
   "language": "python",
   "name": "python3"
  },
  "language_info": {
   "codemirror_mode": {
    "name": "ipython",
    "version": 3
   },
   "file_extension": ".py",
   "mimetype": "text/x-python",
   "name": "python",
   "nbconvert_exporter": "python",
   "pygments_lexer": "ipython3",
   "version": "3.10.2"
  }
 },
 "nbformat": 4,
 "nbformat_minor": 4
}
